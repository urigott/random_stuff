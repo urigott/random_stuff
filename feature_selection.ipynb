{
 "cells": [
  {
   "cell_type": "code",
   "execution_count": 1,
   "id": "f76bc46a-3341-4698-8334-2eb9ffc7d739",
   "metadata": {},
   "outputs": [],
   "source": [
    "import numpy as np\n",
    "import polars as pl\n",
    "import matplotlib.pyplot as plt\n",
    "from sklearn.linear_model import LogisticRegression\n",
    "from sklearn.model_selection import train_test_split\n",
    "from sklearn.tree import DecisionTreeClassifier\n",
    "from sklearn.metrics import roc_auc_score\n",
    "from scipy.stats import pointbiserialr\n",
    "\n",
    "sigmoid = lambda x: 1/(1 + np.exp(-x))"
   ]
  },
  {
   "cell_type": "markdown",
   "id": "b6fc218e-49e3-4235-a91e-1b373f67dcf2",
   "metadata": {},
   "source": [
    "## Data generation\n",
    "\n",
    "Note that $y$ is a function of both $x_1$ and $x_2$, and has not randomness, thus, it should be very straightforward and easy to predict it.\n"
   ]
  },
  {
   "cell_type": "code",
   "execution_count": 2,
   "id": "6c3d1681-c962-4cb8-95ad-3d4d31eaaf9a",
   "metadata": {},
   "outputs": [],
   "source": [
    "np.random.seed(42)\n",
    "\n",
    "x1 = np.array([-1] * 1000 + [1] * 1000)\n",
    "x2 = np.random.normal(size=2000)\n",
    "\n",
    "y = (sigmoid((x1 * x2) * 3.4 + 1.2) > 0.5).astype(int)\n",
    "\n",
    "df = pl.DataFrame({'x1': x1, 'x2': x2, 'y': y})"
   ]
  },
  {
   "cell_type": "markdown",
   "id": "d0c98e7e-e97b-4468-919b-eee1d59a87ae",
   "metadata": {},
   "source": [
    "## Feature selection\n",
    "A common approach is to evaluate correlation between predictors and the outcome.\n",
    "Here, we see that neither of the predictors has any correlation with the outcome, so this approach would have missed both of them!\n"
   ]
  },
  {
   "cell_type": "code",
   "execution_count": 3,
   "id": "61fa4e72-4409-4419-b339-d94fac194337",
   "metadata": {},
   "outputs": [
    {
     "name": "stdout",
     "output_type": "stream",
     "text": [
      "x1 | y correlation: 0.032 | p-value: 0.157\n",
      "x2 | y correlation: -0.007 | p-value: 0.769\n"
     ]
    }
   ],
   "source": [
    "corr = pointbiserialr(x1, y)\n",
    "print(f\"x1 | y correlation: {corr.statistic:.3f} | p-value: {corr.pvalue:.3f}\")\n",
    "\n",
    "corr = pointbiserialr(x2, y)\n",
    "print(f\"x2 | y correlation: {corr.statistic:.3f} | p-value: {corr.pvalue:.3f}\")"
   ]
  },
  {
   "cell_type": "markdown",
   "id": "0cfad86a-5166-4dba-8e75-9672f0cb8bc1",
   "metadata": {},
   "source": [
    "## Using a simple model\n",
    "\n",
    "Even if we include all features in the model, a simple linear model might miss completely the interaction between $x_1$ and $x_2$!"
   ]
  },
  {
   "cell_type": "code",
   "execution_count": 4,
   "id": "103dd66d-b37e-4061-a819-b36addf846c0",
   "metadata": {},
   "outputs": [
    {
     "name": "stdout",
     "output_type": "stream",
     "text": [
      "Train ROC AUC: 0.512\n",
      "Test ROC AUC: 0.508\n"
     ]
    }
   ],
   "source": [
    "train, test = train_test_split(df)\n",
    "\n",
    "lr = LogisticRegression().fit(train.drop('y'), train['y'])\n",
    "\n",
    "train = train.with_columns(y_pred = lr.predict_proba(train.drop('y'))[:, 1])\n",
    "roc_auc = roc_auc_score(y_true=train['y'], y_score=train['y_pred'])\n",
    "print(f\"Train ROC AUC: {roc_auc:.3f}\")\n",
    "\n",
    "test = test.with_columns(y_pred = lr.predict_proba(test.drop('y'))[:, 1])\n",
    "roc_auc = roc_auc_score(y_true=test['y'], y_score=test['y_pred'])\n",
    "print(f\"Test ROC AUC: {roc_auc:.3f}\")"
   ]
  },
  {
   "cell_type": "markdown",
   "id": "ced9a28f-f35b-4b79-812c-ef4fc2c05538",
   "metadata": {},
   "source": [
    "## Introducing interactions\n",
    "\n",
    "By adding the interaction between $x_1$ and $x_2$, the model is able to *discover* the underlying function for data generation and reach perfect predictions.\n",
    "\n"
   ]
  },
  {
   "cell_type": "code",
   "execution_count": 5,
   "id": "240626a1-ae36-4d06-a4fc-d1e3e688d0d5",
   "metadata": {},
   "outputs": [
    {
     "name": "stdout",
     "output_type": "stream",
     "text": [
      "Train ROC AUC: 1.000\n",
      "Test ROC AUC: 1.000\n"
     ]
    }
   ],
   "source": [
    "train = train.with_columns(x1_x2 = pl.col('x1') * pl.col('x2'))\n",
    "test = test.with_columns(x1_x2 = pl.col('x1') * pl.col('x2'))\n",
    "\n",
    "lr = LogisticRegression().fit(train[['x1', 'x2', 'x1_x2']], train['y'])\n",
    "\n",
    "train = train.with_columns(y_pred = lr.predict_proba(train[['x1', 'x2', 'x1_x2']])[:, 1])\n",
    "roc_auc = roc_auc_score(y_true=train['y'], y_score=train['y_pred'])\n",
    "print(f\"Train ROC AUC: {roc_auc:.3f}\")\n",
    "\n",
    "test = test.with_columns(y_pred = lr.predict_proba(test[['x1', 'x2', 'x1_x2']])[:, 1])\n",
    "roc_auc = roc_auc_score(y_true=test['y'], y_score=test['y_pred'])\n",
    "print(f\"Test ROC AUC: {roc_auc:.3f}\")"
   ]
  },
  {
   "cell_type": "markdown",
   "id": "92250dd9-3c07-48fb-ba2e-9de5f595461b",
   "metadata": {},
   "source": [
    "--- \n",
    "\n",
    "**However**, if we have more than just two predictors, that would be a difficult task.\n",
    "An alternative, is to use a more complex model. Here I show it with a simple decision tree. In real world data it might not be enough."
   ]
  },
  {
   "cell_type": "code",
   "execution_count": 6,
   "id": "bea67f17-29af-4aef-99a9-e5f278d731a8",
   "metadata": {},
   "outputs": [
    {
     "name": "stdout",
     "output_type": "stream",
     "text": [
      "Train ROC AUC: 1.000\n",
      "Test ROC AUC: 1.000\n"
     ]
    }
   ],
   "source": [
    "clf = DecisionTreeClassifier().fit(train[['x1', 'x2']], train['y'])\n",
    "\n",
    "train = train.with_columns(y_pred_tree = clf.predict_proba(train[['x1', 'x2']])[:, 1])\n",
    "roc_auc = roc_auc_score(y_true=train['y'], y_score=train['y_pred'])\n",
    "print(f\"Train ROC AUC: {roc_auc:.3f}\")\n",
    "\n",
    "test = test.with_columns(y_pred_tree = clf.predict_proba(test[['x1', 'x2']])[:, 1])\n",
    "roc_auc = roc_auc_score(y_true=test['y'], y_score=test['y_pred'])\n",
    "print(f\"Test ROC AUC: {roc_auc:.3f}\")"
   ]
  }
 ],
 "metadata": {
  "kernelspec": {
   "display_name": "Python 3 (ipykernel)",
   "language": "python",
   "name": "python3"
  },
  "language_info": {
   "codemirror_mode": {
    "name": "ipython",
    "version": 3
   },
   "file_extension": ".py",
   "mimetype": "text/x-python",
   "name": "python",
   "nbconvert_exporter": "python",
   "pygments_lexer": "ipython3",
   "version": "3.11.9"
  }
 },
 "nbformat": 4,
 "nbformat_minor": 5
}
